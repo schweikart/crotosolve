{
 "cells": [
  {
   "cell_type": "markdown",
   "metadata": {},
   "source": [
    "# Single gate demonstration\n",
    "\n",
    "This notebook demonstrates the reconstruction of the cost function depending\n",
    "on a single parameter used in controlled pauli rotations gates in quantum\n",
    "circuits."
   ]
  },
  {
   "cell_type": "code",
   "execution_count": 1,
   "metadata": {},
   "outputs": [],
   "source": [
    "import pennylane as qml\n",
    "from pennylane import numpy as np\n",
    "from numpy.typing import NDArray\n",
    "\n",
    "import math\n",
    "\n",
    "from scipy.optimize import minimize\n",
    "\n",
    "from matplotlib import pyplot as plt"
   ]
  },
  {
   "cell_type": "markdown",
   "metadata": {},
   "source": [
    "## 1. Set up demo circuit(s)"
   ]
  },
  {
   "cell_type": "code",
   "execution_count": 2,
   "metadata": {},
   "outputs": [
    {
     "name": "stdout",
     "output_type": "stream",
     "text": [
      "0: ──RX(1.00)──RZ(1.00)─────────────────────╭RZ(1.00)──RX(1.00)──RZ(1.00)───────────╭RZ(M0)──\n",
      "1: ──RX(1.00)──RZ(1.00)───────────╭RZ(1.00)─╰●─────────RX(1.00)──RZ(1.00)─╭RZ(1.00)─╰●───────\n",
      "2: ──RX(1.00)──RZ(1.00)─╭RZ(1.00)─╰●─────────RX(1.00)──RZ(1.00)─╭RZ(1.00)─╰●─────────RX(1.00)\n",
      "3: ──RX(1.00)──RZ(1.00)─╰●─────────RX(1.00)──RZ(1.00)───────────╰●─────────RX(1.00)──RZ(1.00)\n",
      "\n",
      "───RX(1.00)──RZ(1.00)───────────╭RZ(1.00)──RX(1.00)──RZ(1.00)───────────╭RZ(1.00)──RX(1.00)\n",
      "───RX(1.00)──RZ(1.00)─╭RZ(1.00)─╰●─────────RX(1.00)──RZ(1.00)─╭RZ(1.00)─╰●─────────RX(1.00)\n",
      "───RZ(1.00)─╭RZ(1.00)─╰●─────────RX(1.00)──RZ(1.00)─╭RZ(1.00)─╰●─────────RX(1.00)──RZ(1.00)\n",
      "────────────╰●─────────RX(1.00)──RZ(1.00)───────────╰●─────────RX(1.00)──RZ(1.00)──────────\n",
      "\n",
      "───RZ(1.00)───────────╭RZ(1.00)─┤     \n",
      "───RZ(1.00)─╭RZ(1.00)─╰●────────┤  <Z>\n",
      "──╭RZ(1.00)─╰●──────────────────┤     \n",
      "──╰●────────────────────────────┤     \n",
      "M0 = \n",
      "[0]\n"
     ]
    }
   ],
   "source": [
    "dev = qml.device(\"default.qubit\", wires=4, shots=None)\n",
    "\n",
    "@qml.qnode(dev)\n",
    "def complex_circuit(crx_param):\n",
    "    # some unparameterized gates\n",
    "    qml.Hadamard(wires=0)\n",
    "    qml.RX(1.2, wires=1)\n",
    "    qml.Hadamard(wires=1)\n",
    "    qml.CRX(math.pi/2, wires=[1, 0])\n",
    "\n",
    "    # this is the gate to optimize\n",
    "    qml.CRX(crx_param, wires=[0, 1])\n",
    "\n",
    "    # some more unparameterized gates \n",
    "    qml.RX(2.3, wires=0)\n",
    "    qml.CNOT(wires=[1, 0])\n",
    "    \n",
    "    # measure qubit 0 in computational basis\n",
    "    return qml.expval(qml.PauliX(0))\n",
    "\n",
    "@qml.qnode(dev)\n",
    "def rx_circuit(rx_param):\n",
    "    qml.RX(rx_param, wires=0)\n",
    "\n",
    "    return qml.expval(qml.PauliZ(0))\n",
    "\n",
    "@qml.qnode(dev)\n",
    "def crx_circuit(crx_param):\n",
    "    qml.Hadamard(wires=0)\n",
    "    qml.CRX(crx_param, wires=[0, 1])\n",
    "\n",
    "    return qml.expval(qml.PauliZ(1))\n",
    "\n",
    "@qml.qnode(dev)\n",
    "def xxx_circuit(crz_param):\n",
    "    num_layers = 5\n",
    "    num_qubits = 4\n",
    "    for layer in range(num_layers):\n",
    "        for qubit in range(num_qubits):\n",
    "            qml.RX(1, wires=qubit) # params[layer, qubit, 0]\n",
    "            qml.RZ(1, wires=qubit) # params[layer, qubit, 1]\n",
    "        for qubit in range(num_qubits - 2, -1, -1): # incl. start, excl. stop, step\n",
    "            qml.CRZ(crz_param if layer == 1 and qubit == 0 else 1, (qubit + 1, qubit)) # params[layer, qubit, 2]\n",
    "    return qml.expval(qml.PauliZ(1))\n",
    "\n",
    "circuit = xxx_circuit\n",
    "print(qml.draw(circuit)((0,)))"
   ]
  },
  {
   "cell_type": "markdown",
   "metadata": {},
   "source": [
    "## 2. Reconstruct cost function\n",
    "\n",
    "See [`reconstruction.py`](./reconstruction.py) for implementation details."
   ]
  },
  {
   "cell_type": "code",
   "execution_count": 3,
   "metadata": {},
   "outputs": [
    {
     "name": "stdout",
     "output_type": "stream",
     "text": [
      "y_0=0.5326850642341028\n",
      "y_pi=-0.047017362178458866\n",
      "y_3/2pi=-0.33898265090232516\n",
      "y_2pi=-0.2592447705221337\n",
      "y_3pi=-0.4392243085543897\n",
      "y_7/2pi=-0.05633588593313782\n",
      "\n",
      "d_1=-0.05320034425521987\n",
      "d_2=-0.45984414119202066\n",
      "d_3=0.44186512420719865\n",
      "d_4=-0.6502686716968427\n",
      "d_5=0.238617211688745\n",
      "\n"
     ]
    }
   ],
   "source": [
    "from reconstruction import reconstruct\n",
    "\n",
    "reconstruction = reconstruct(circuit, debug=True)"
   ]
  },
  {
   "cell_type": "markdown",
   "metadata": {},
   "source": [
    "## 3. Find optimal parameter\n",
    "\n",
    "See [`minimization.py`](./minimization.py) for implementation details."
   ]
  },
  {
   "cell_type": "code",
   "execution_count": 4,
   "metadata": {},
   "outputs": [
    {
     "name": "stdout",
     "output_type": "stream",
     "text": [
      "       message: Optimization terminated successfully.\n",
      "       success: True\n",
      "        status: 0\n",
      "           fun: -0.3400619091520473\n",
      "             x: [ 4.825e+00]\n",
      "           nit: 24\n",
      "          nfev: 48\n",
      " final_simplex: (array([[ 4.825e+00],\n",
      "                       [ 4.825e+00]]), array([-3.401e-01, -3.401e-01]))\n"
     ]
    }
   ],
   "source": [
    "from minimization import minimize_reconstruction\n",
    "\n",
    "numerical_x, _ = minimize_reconstruction(reconstruction, debug=True)"
   ]
  },
  {
   "cell_type": "markdown",
   "metadata": {},
   "source": [
    "## 4. Compare reconstruction with circuit"
   ]
  },
  {
   "cell_type": "code",
   "execution_count": 5,
   "metadata": {},
   "outputs": [
    {
     "data": {
      "text/plain": [
       "<matplotlib.lines.Line2D at 0x7f4b04c74910>"
      ]
     },
     "execution_count": 5,
     "metadata": {},
     "output_type": "execute_result"
    },
    {
     "data": {
      "image/png": "[encoded data removed]",
      "text/plain": [
       "<Figure size 640x480 with 1 Axes>"
      ]
     },
     "metadata": {},
     "output_type": "display_data"
    }
   ],
   "source": [
    "# initialize crx_param with 0.5 but could be any value\n",
    "initial_param = (0.5,)\n",
    "\n",
    "param = initial_param\n",
    "\n",
    "param_values = np.linspace(0, 4 * math.pi, 100)\n",
    "results = [float(circuit(p)) for p in param_values]\n",
    "reconstructed_results = [reconstruction(p) for p in param_values]\n",
    "\n",
    "fig, ax = plt.subplots()\n",
    "ax.plot(param_values, results, 'b')\n",
    "ax.plot(param_values, reconstructed_results, 'r.')\n",
    "ax.axvline(x=numerical_x, dashes=(True,), color='gray')"
   ]
  }
 ],
 "metadata": {
  "kernelspec": {
   "display_name": ".venv",
   "language": "python",
   "name": "python3"
  },
  "language_info": {
   "codemirror_mode": {
    "name": "ipython",
    "version": 3
   },
   "file_extension": ".py",
   "mimetype": "text/x-python",
   "name": "python",
   "nbconvert_exporter": "python",
   "pygments_lexer": "ipython3",
   "version": "3.10.12"
  }
 },
 "nbformat": 4,
 "nbformat_minor": 2
}
