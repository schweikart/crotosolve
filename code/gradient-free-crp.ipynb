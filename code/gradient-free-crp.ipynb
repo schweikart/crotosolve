{
 "cells": [
  {
   "cell_type": "code",
   "execution_count": 29,
   "metadata": {},
   "outputs": [],
   "source": [
    "import pennylane as qml\n",
    "from pennylane import numpy as np\n",
    "\n",
    "import math\n",
    "\n",
    "from scipy.optimize import minimize\n",
    "\n",
    "from matplotlib import pyplot as plt"
   ]
  },
  {
   "cell_type": "markdown",
   "metadata": {},
   "source": [
    "# Gradient-free `CRP` parameter optimization"
   ]
  },
  {
   "cell_type": "markdown",
   "metadata": {},
   "source": [
    "## 1. Set up small demo circuit"
   ]
  },
  {
   "cell_type": "code",
   "execution_count": 30,
   "metadata": {},
   "outputs": [
    {
     "name": "stdout",
     "output_type": "stream",
     "text": [
      "0: ──H───────────╭RX(1.57)─╭●───────RX(2.30)─╭X─┤  <X>\n",
      "1: ──RX(1.20)──H─╰●────────╰RX(M0)───────────╰●─┤     \n",
      "M0 = \n",
      "[0]\n"
     ]
    }
   ],
   "source": [
    "dev = qml.device(\"default.qubit\", wires=2, shots=None)\n",
    "\n",
    "@qml.qnode(dev)\n",
    "def complex_circuit(crx_param):\n",
    "    # some unparameterized gates\n",
    "    qml.Hadamard(wires=0)\n",
    "    qml.RX(1.2, wires=1)\n",
    "    qml.Hadamard(wires=1)\n",
    "    qml.CRX(math.pi/2, wires=[1, 0])\n",
    "\n",
    "    # this is the gate to optimize\n",
    "    qml.CRX(crx_param, wires=[0, 1])\n",
    "\n",
    "    # some more unparameterized gates \n",
    "    qml.RX(2.3, wires=0)\n",
    "    qml.CNOT(wires=[1, 0])\n",
    "    \n",
    "    # measure qubit 0 in computational basis\n",
    "    return qml.expval(qml.PauliX(0))\n",
    "\n",
    "@qml.qnode(dev)\n",
    "def rx_circuit(rx_param):\n",
    "    qml.RX(rx_param, wires=0)\n",
    "\n",
    "    return qml.expval(qml.PauliZ(0))\n",
    "\n",
    "@qml.qnode(dev)\n",
    "def crx_circuit(crx_param):\n",
    "    qml.Hadamard(wires=0)\n",
    "    qml.CRX(crx_param, wires=[0, 1])\n",
    "\n",
    "    return qml.expval(qml.PauliZ(1))\n",
    "\n",
    "circuit = complex_circuit\n",
    "print(qml.draw(circuit)((0,)))"
   ]
  },
  {
   "cell_type": "markdown",
   "metadata": {},
   "source": [
    "## 2. Reconstruct cost function"
   ]
  },
  {
   "cell_type": "code",
   "execution_count": 31,
   "metadata": {},
   "outputs": [
    {
     "name": "stdout",
     "output_type": "stream",
     "text": [
      "y_0=0.9999999999999993\n",
      "y_pi=0.0\n",
      "y_3/2pi=-0.7071067811865469\n",
      "y_2pi=-0.9999999999999993\n",
      "y_3pi=-2.220446049250313e-16\n",
      "y_7/2pi=0.7071067811865468\n",
      "\n",
      "d_1=-5.551115123125783e-17\n",
      "d_2=-1.1102230246251573e-16\n",
      "d_3=0.9999999999999993\n",
      "d_4=0.0\n",
      "d_5=5.551115123125783e-17\n",
      "\n"
     ]
    }
   ],
   "source": [
    "theta = 0\n",
    "\n",
    "# measure function at six chosen points\n",
    "y_0 = circuit(theta + 0)\n",
    "print(f\"y_0={y_0}\")\n",
    "\n",
    "y_pi = circuit(theta + math.pi)\n",
    "print(f\"y_pi={y_pi}\")\n",
    "\n",
    "y_32pi = circuit(theta + 3 / 2 * math.pi)\n",
    "print(f\"y_3/2pi={y_32pi}\")\n",
    "\n",
    "y_2pi = circuit(theta + 2 * math.pi)\n",
    "print(f\"y_2pi={y_2pi}\")\n",
    "\n",
    "y_3pi = circuit(theta + 3 * math.pi)\n",
    "print(f\"y_3pi={y_3pi}\")\n",
    "\n",
    "y_72pi = circuit(theta + 7 / 2 * math.pi)\n",
    "print(f\"y_7/2pi={y_72pi}\")\n",
    "print()\n",
    "\n",
    "\n",
    "# determine reconstruction constants from these measurements\n",
    "d1 = (1/4) * (y_0 + y_2pi + y_pi + y_3pi)\n",
    "print(f\"d_1={d1}\")\n",
    "\n",
    "y1_0 = (1/2) * (y_0 - y_2pi)\n",
    "y1_3pi = (1/2) * (y_3pi - y_pi)\n",
    "if y1_0 == 0 and y1_3pi == 0:\n",
    "    d2 = 0 # arbitrary choice\n",
    "    d3 = 0\n",
    "elif y1_0 == 0 and y1_3pi != 0:\n",
    "    d2 = (1/2) * math.pi - theta / 2\n",
    "    d3 = y1_3pi\n",
    "else:\n",
    "    d2 = math.atan(y1_3pi / y1_0) - theta / 2\n",
    "    d3 = y1_0 / math.cos(theta / 2 + d2)\n",
    "print(f\"d_2={d2}\")\n",
    "print(f\"d_3={d3}\")\n",
    "\n",
    "y2_0 = (1/2) * (y_0 + y_2pi - 2 * d1)\n",
    "y2_32pi = (1/2) * (y_32pi + y_72pi - 2 * d1)\n",
    "if y2_0 == 0 and y2_32pi == 0:\n",
    "    d4 = 0 # arbitrary choice\n",
    "    d5 = 0\n",
    "elif y2_0 == 0 and y2_32pi != 0:\n",
    "    d4 = (1/2) * math.pi - theta\n",
    "    d5 = y2_32pi\n",
    "else:\n",
    "    d4 = math.atan(y2_32pi / y2_0) - theta\n",
    "    d5 = y2_0 / math.cos(theta + d4)\n",
    "print(f\"d_4={d4}\")\n",
    "print(f\"d_5={d5}\")\n",
    "print()\n",
    "\n",
    "# and finally, reconstruct the cost function\n",
    "def reconstruction(theta):\n",
    "    return d1 + d3 * math.cos(theta / 2 + d2) + d5 * math.cos(theta + d4)"
   ]
  },
  {
   "cell_type": "markdown",
   "metadata": {},
   "source": [
    "## 3. Find optimal parameter"
   ]
  },
  {
   "cell_type": "code",
   "execution_count": 32,
   "metadata": {},
   "outputs": [
    {
     "data": {
      "text/plain": [
       "       message: Optimization terminated successfully.\n",
       "       success: True\n",
       "        status: 0\n",
       "           fun: -0.9999999999999993\n",
       "             x: [ 6.283e+00]\n",
       "           nit: 26\n",
       "          nfev: 52\n",
       " final_simplex: (array([[ 6.283e+00],\n",
       "                       [ 6.283e+00]]), array([-1.000e+00, -1.000e+00]))"
      ]
     },
     "execution_count": 32,
     "metadata": {},
     "output_type": "execute_result"
    }
   ],
   "source": [
    "x0 = math.pi\n",
    "res = minimize(reconstruction, x0, method='Nelder-Mead', tol=1e-6)\n",
    "\n",
    "numerical_x = res.x[0]\n",
    "res"
   ]
  },
  {
   "cell_type": "markdown",
   "metadata": {},
   "source": [
    "## 4. Compare reconstruction with circuit"
   ]
  },
  {
   "cell_type": "code",
   "execution_count": 33,
   "metadata": {},
   "outputs": [
    {
     "data": {
      "text/plain": [
       "<matplotlib.lines.Line2D at 0x7fe60387dd50>"
      ]
     },
     "execution_count": 33,
     "metadata": {},
     "output_type": "execute_result"
    },
    {
     "data": {
      "image/png": "[encoded data removed]",
      "text/plain": [
       "<Figure size 640x480 with 1 Axes>"
      ]
     },
     "metadata": {},
     "output_type": "display_data"
    }
   ],
   "source": [
    "# initialize crx_param with 0.5 but could be any value\n",
    "initial_param = (0.5,)\n",
    "\n",
    "param = initial_param\n",
    "\n",
    "param_values = np.linspace(0, 4 * math.pi, 100)\n",
    "results = [float(circuit(p)) for p in param_values]\n",
    "reconstructed_results = [reconstruction(p) for p in param_values]\n",
    "\n",
    "fig, ax = plt.subplots()\n",
    "ax.plot(param_values, results, 'b')\n",
    "ax.plot(param_values, reconstructed_results, 'r.')\n",
    "ax.axvline(x=numerical_x, dashes=(True,), color='gray')"
   ]
  }
 ],
 "metadata": {
  "kernelspec": {
   "display_name": ".venv",
   "language": "python",
   "name": "python3"
  },
  "language_info": {
   "codemirror_mode": {
    "name": "ipython",
    "version": 3
   },
   "file_extension": ".py",
   "mimetype": "text/x-python",
   "name": "python",
   "nbconvert_exporter": "python",
   "pygments_lexer": "ipython3",
   "version": "3.10.12"
  }
 },
 "nbformat": 4,
 "nbformat_minor": 2
}
