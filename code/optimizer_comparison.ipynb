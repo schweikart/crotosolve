{
 "cells": [
  {
   "cell_type": "code",
   "execution_count": 1,
   "metadata": {},
   "outputs": [],
   "source": [
    "import pennylane as qml\n",
    "import pennylane.numpy as np\n",
    "import numpy as illegal_but_typed_np\n",
    "from numpy.typing import NDArray"
   ]
  },
  {
   "cell_type": "markdown",
   "metadata": {},
   "source": [
    "## 1. Set up circuit to optimize"
   ]
  },
  {
   "cell_type": "code",
   "execution_count": 2,
   "metadata": {},
   "outputs": [
    {
     "name": "stdout",
     "output_type": "stream",
     "text": [
      "0: ──RX(0.45)──RY(0.71)───────╭X──||──RX(0.59)──RY(0.23)───────╭X──||──RX(0.46)──RY(0.50)───────╭X\n",
      "1: ──RX(0.98)──RY(0.44)────╭X─╰●──||──RX(0.25)──RY(0.41)────╭X─╰●──||──RX(0.88)──RY(0.44)────╭X─╰●\n",
      "2: ──RX(0.94)──RY(0.78)─╭X─╰●─────||──RX(0.46)──RY(0.48)─╭X─╰●─────||──RX(0.29)──RY(0.43)─╭X─╰●───\n",
      "3: ──RX(0.28)──RY(0.79)─╰●────────||──RX(0.62)──RY(0.31)─╰●────────||──RX(0.86)──RY(0.51)─╰●──────\n",
      "\n",
      "───||──RX(0.92)──RY(0.25)───────╭X──||──RX(0.97)──RY(0.69)───────╭X──||─┤  <Z>\n",
      "───||──RX(0.98)──RY(0.48)────╭X─╰●──||──RX(0.47)──RY(0.35)────╭X─╰●──||─┤     \n",
      "───||──RX(0.95)──RY(0.71)─╭X─╰●─────||──RX(0.06)──RY(0.81)─╭X─╰●─────||─┤     \n",
      "───||──RX(0.22)──RY(0.86)─╰●────────||──RX(0.80)──RY(0.21)─╰●────────||─┤     \n"
     ]
    }
   ],
   "source": [
    "from circuits import sim_02, sim_03\n",
    "\n",
    "num_layers = 5\n",
    "num_qubits = 4\n",
    "\n",
    "# works as expected!\n",
    "# circuit = sim_03(num_layers, num_qubits)\n",
    "# initial_params = (\n",
    "#     np.array(np.random.random((num_layers, num_qubits, 2))),\n",
    "#     np.array(np.random.random((num_layers, num_qubits - 1)))\n",
    "# )\n",
    "\n",
    "circuit = sim_02(num_layers, num_qubits)\n",
    "initial_params = (\n",
    "    np.array(np.random.random((num_layers, num_qubits, 2))),\n",
    "    np.array([])\n",
    ")\n",
    "\n",
    "print(qml.draw(circuit)(*initial_params))\n",
    "\n",
    "# demo circuit from Rotosolve docs, crotosolve cannot solve this\n",
    "# dev = qml.device('default.qubit', wires=3, shots=None)\n",
    "# @qml.qnode(dev)\n",
    "# def circuit(rot_param: NDArray, layer_param: float, crot_param: NDArray):\n",
    "#     for i, par in enumerate(rot_param):\n",
    "#         qml.RX(par, wires=i)\n",
    "#     for w in dev.wires:\n",
    "#         qml.RX(layer_param, wires=w)\n",
    "#     for i, par in enumerate(crot_param):\n",
    "#         qml.CRY(par, wires=[i, (i+1) % 3])\n",
    "#     return qml.expval(qml.PauliZ(0) @ qml.PauliZ(1) @ qml.PauliZ(2))\n",
    "# params = (\n",
    "#     np.array([0.3, 0.2, 0.67], requires_grad=True),\n",
    "#     np.array(1.1, requires_grad=True),\n",
    "#     np.array([-0.2, 0.1, -2.5], requires_grad=True)\n",
    "# )"
   ]
  },
  {
   "cell_type": "markdown",
   "metadata": {},
   "source": [
    "## 2. Run `Crotosolve` optimization"
   ]
  },
  {
   "cell_type": "code",
   "execution_count": 3,
   "metadata": {},
   "outputs": [],
   "source": [
    "from CrotosolveOptimizer import CrotosolveOptimizer\n",
    "\n",
    "# optimizer = qml.AdamOptimizer()\n",
    "\n",
    "max_iterations = 5#100\n",
    "convergence_threshold = 1e-06\n",
    "\n",
    "optimizer = CrotosolveOptimizer()\n",
    "\n",
    "#iterations_dataset = [circuit(params)] # store initial cost\n",
    "cost = [(0, float(circuit(*initial_params)))]\n",
    "params = initial_params\n",
    "for iteration in range(max_iterations):\n",
    "    #with qml.Tracker(circuit.device) as tracker:\n",
    "    params, prev_cost, sub_cost = optimizer.step_and_cost(\n",
    "        circuit,\n",
    "        *params,\n",
    "        full_output=True\n",
    "    )\n",
    "\n",
    "    sub_cost_rp = sub_cost[:params[0].size]\n",
    "    sub_cost_crp = sub_cost[params[0].size:]\n",
    "\n",
    "    evaluations_so_far = max([evs for (evs, _) in cost], default=0)\n",
    "    cost.extend([\n",
    "        (\n",
    "            evaluations_so_far + 3 * (cost_idx + 1), # TODO: reduce once operation caching is applied\n",
    "            float(cost_value)\n",
    "        )\n",
    "        for (cost_idx, cost_value)\n",
    "        in enumerate(sub_cost_rp)\n",
    "    ])\n",
    "\n",
    "    evaluations_so_far = max([evs for (evs, _) in cost], default=0)\n",
    "    cost.extend([\n",
    "        (\n",
    "            evaluations_so_far + 6 * (cost_idx + 1),\n",
    "            float(cost_value)\n",
    "        )\n",
    "        for (cost_idx, cost_value)\n",
    "        in enumerate(sub_cost_crp)\n",
    "    ])\n",
    "\n",
    "    if np.abs(circuit(*params) - prev_cost) <= convergence_threshold:\n",
    "        print(\"abort\", iteration)\n",
    "        break\n",
    "\n",
    "crotosolve_cost = cost"
   ]
  },
  {
   "cell_type": "markdown",
   "metadata": {},
   "source": [
    "## 3. Run `Rotosolve` optimization"
   ]
  },
  {
   "cell_type": "code",
   "execution_count": 4,
   "metadata": {},
   "outputs": [
    {
     "name": "stderr",
     "output_type": "stream",
     "text": [
      "/home/max/Projects/bachelor-thesis/.venv/lib/python3.10/site-packages/autograd/tracer.py:14: UserWarning: Output seems independent of input.\n",
      "  warnings.warn(\"Output seems independent of input.\")\n"
     ]
    }
   ],
   "source": [
    "max_iterations = 5#100\n",
    "convergence_threshold = 1e-06\n",
    "\n",
    "optimizer = qml.RotosolveOptimizer()\n",
    "params = initial_params\n",
    "\n",
    "spectrum_fn = qml.fourier.qnode_spectrum(circuit)\n",
    "spectra = spectrum_fn(*params)\n",
    "#iterations_dataset = [circuit(params)] # store initial cost\n",
    "cost = [(0, float(circuit(*initial_params)))]\n",
    "for iteration in range(max_iterations):\n",
    "    #with qml.Tracker(circuit.device) as tracker: -> 2 per param shift rule appl.\n",
    "    params, prev_cost, sub_cost = optimizer.step_and_cost(\n",
    "        circuit,\n",
    "        *params,\n",
    "        spectra=spectra,\n",
    "        full_output=True\n",
    "    )\n",
    "\n",
    "    sub_cost_rp = sub_cost[:params[0].size]\n",
    "    sub_cost_crp = sub_cost[params[0].size:]\n",
    "\n",
    "    evaluations_so_far = max([evs for (evs, _) in cost], default=0)\n",
    "    cost.extend([\n",
    "        (\n",
    "            evaluations_so_far + 2 * (cost_idx + 1) + 1,\n",
    "            float(cost_value)\n",
    "        )\n",
    "        for (cost_idx, cost_value)\n",
    "        in enumerate(sub_cost_rp)\n",
    "    ])\n",
    "\n",
    "    evaluations_so_far = max([evs for (evs, _) in cost], default=0)\n",
    "    cost.extend([\n",
    "        (\n",
    "            evaluations_so_far + 6 * (cost_idx + 1),\n",
    "            float(cost_value)\n",
    "        )\n",
    "        for (cost_idx, cost_value)\n",
    "        in enumerate(sub_cost_crp)\n",
    "    ])\n",
    "\n",
    "    if np.abs(circuit(*params) - prev_cost) <= convergence_threshold:\n",
    "        print(\"abort\", iteration)\n",
    "        break\n",
    "\n",
    "rotosolve_cost = cost"
   ]
  },
  {
   "cell_type": "markdown",
   "metadata": {},
   "source": [
    "## 4. Run `GradientDescent` optimization"
   ]
  },
  {
   "cell_type": "code",
   "execution_count": 5,
   "metadata": {},
   "outputs": [],
   "source": [
    "max_iterations = 500\n",
    "convergence_threshold = 1e-06\n",
    "\n",
    "optimizer = qml.GradientDescentOptimizer()\n",
    "params = initial_params\n",
    "\n",
    "#iterations_dataset = [circuit(params)] # store initial cost\n",
    "cost = [(0, float(circuit(*initial_params)))]\n",
    "for iteration in range(max_iterations):\n",
    "    #with qml.Tracker(circuit.device) as tracker: # TODO: this does not work as expected, should return  >=2 executions per param shift rule appl.\n",
    "    params, prev_cost = optimizer.step_and_cost(\n",
    "        circuit,\n",
    "        *params,\n",
    "    )\n",
    "    evaluations_here = 2\n",
    "    current_cost = float(circuit(*params))\n",
    "\n",
    "    evaluations_so_far = max([evs for (evs, _) in cost], default=0)\n",
    "    cost.append((evaluations_so_far + evaluations_here, current_cost))\n",
    "\n",
    "    if np.abs(circuit(*params) - prev_cost) <= convergence_threshold:\n",
    "        print(\"abort\", iteration)\n",
    "        break\n",
    "\n",
    "gradientdescent_cost = cost"
   ]
  },
  {
   "cell_type": "markdown",
   "metadata": {},
   "source": [
    "## 5. Run `Adam` optimization"
   ]
  },
  {
   "cell_type": "code",
   "execution_count": 6,
   "metadata": {},
   "outputs": [
    {
     "name": "stdout",
     "output_type": "stream",
     "text": [
      "abort 93\n"
     ]
    }
   ],
   "source": [
    "max_iterations = 500\n",
    "convergence_threshold = 1e-06\n",
    "\n",
    "optimizer = qml.AdamOptimizer()\n",
    "params = initial_params\n",
    "\n",
    "#iterations_dataset = [circuit(params)] # store initial cost\n",
    "cost = [(0, float(circuit(*initial_params)))]\n",
    "for iteration in range(max_iterations):\n",
    "    #with qml.Tracker(circuit.device) as tracker: # TODO: this does not work as expected, should return  >=2 executions per param shift rule appl.\n",
    "    params, prev_cost = optimizer.step_and_cost(\n",
    "        circuit,\n",
    "        *params,\n",
    "    )\n",
    "    evaluations_here = 2\n",
    "    current_cost = float(circuit(*params))\n",
    "\n",
    "    evaluations_so_far = max([evs for (evs, _) in cost], default=0)\n",
    "    cost.append((evaluations_so_far + evaluations_here, current_cost))\n",
    "\n",
    "    if np.abs(circuit(*params) - prev_cost) <= convergence_threshold:\n",
    "        print(\"abort\", iteration)\n",
    "        break\n",
    "\n",
    "adam_cost = cost"
   ]
  },
  {
   "cell_type": "markdown",
   "metadata": {},
   "source": [
    "## 5. Run `Adagrad` optimization"
   ]
  },
  {
   "cell_type": "code",
   "execution_count": 7,
   "metadata": {},
   "outputs": [],
   "source": [
    "max_iterations = 500\n",
    "convergence_threshold = 1e-06\n",
    "\n",
    "optimizer = qml.AdagradOptimizer()\n",
    "params = initial_params\n",
    "\n",
    "#iterations_dataset = [circuit(params)] # store initial cost\n",
    "cost = [(0, float(circuit(*initial_params)))]\n",
    "for iteration in range(max_iterations):\n",
    "    #with qml.Tracker(circuit.device) as tracker: # TODO: this does not work as expected, should return  >=2 executions per param shift rule appl.\n",
    "    params, prev_cost = optimizer.step_and_cost(\n",
    "        circuit,\n",
    "        *params,\n",
    "    )\n",
    "    evaluations_here = 2\n",
    "    current_cost = float(circuit(*params))\n",
    "\n",
    "    evaluations_so_far = max([evs for (evs, _) in cost], default=0)\n",
    "    cost.append((evaluations_so_far + evaluations_here, current_cost))\n",
    "\n",
    "    if np.abs(circuit(*params) - prev_cost) <= convergence_threshold:\n",
    "        print(\"abort\", iteration)\n",
    "        break\n",
    "\n",
    "adagrad_cost = cost"
   ]
  },
  {
   "cell_type": "markdown",
   "metadata": {},
   "source": [
    "## N. Plot loss curve"
   ]
  },
  {
   "cell_type": "code",
   "execution_count": 8,
   "metadata": {},
   "outputs": [
    {
     "data": {
      "image/png": "[encoded data removed]",
      "text/plain": [
       "<Figure size 640x480 with 1 Axes>"
      ]
     },
     "metadata": {},
     "output_type": "display_data"
    }
   ],
   "source": [
    "import matplotlib.pyplot as plt\n",
    "\n",
    "fig, ax = plt.subplots()\n",
    "# ax.plot(range(len(iterations_dataset)), iterations_dataset, 'b')\n",
    "# ax.set_title(\"Loss curve over iterations\")\n",
    "\n",
    "plot_data = [\n",
    "    (\"Rotosolve\", rotosolve_cost),\n",
    "    (\"Crotosolve\", crotosolve_cost),\n",
    "    (\"Gradient Descent\", gradientdescent_cost),\n",
    "    (\"Adam\", adam_cost),\n",
    "    (\"Adagrad\", adagrad_cost)\n",
    "]\n",
    "\n",
    "for optimizer_name, loss_curve_data in plot_data:\n",
    "    x, y = zip(*loss_curve_data) # this unzips the list of points\n",
    "\n",
    "    ax.plot(x, y, label=f\"{optimizer_name} loss curve over iterations\")\n",
    "    ax.legend()"
   ]
  }
 ],
 "metadata": {
  "kernelspec": {
   "display_name": ".venv",
   "language": "python",
   "name": "python3"
  },
  "language_info": {
   "codemirror_mode": {
    "name": "ipython",
    "version": 3
   },
   "file_extension": ".py",
   "mimetype": "text/x-python",
   "name": "python",
   "nbconvert_exporter": "python",
   "pygments_lexer": "ipython3",
   "version": "3.10.12"
  }
 },
 "nbformat": 4,
 "nbformat_minor": 2
}
