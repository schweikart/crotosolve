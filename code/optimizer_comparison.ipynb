{
 "cells": [
  {
   "cell_type": "code",
   "execution_count": 1,
   "metadata": {},
   "outputs": [],
   "source": [
    "import pennylane as qml\n",
    "import pennylane.numpy as np\n",
    "import numpy as illegal_but_typed_np\n",
    "from numpy.typing import NDArray"
   ]
  },
  {
   "cell_type": "markdown",
   "metadata": {},
   "source": [
    "## 1. Set up circuit to optimize"
   ]
  },
  {
   "cell_type": "code",
   "execution_count": 2,
   "metadata": {},
   "outputs": [
    {
     "name": "stdout",
     "output_type": "stream",
     "text": [
      "0: ──RX(0.50)──RZ(0.13)─────────────────────╭RX(0.47)──||──RX(0.78)──RZ(0.57)────────────────────\n",
      "1: ──RX(0.06)──RZ(0.25)───────────╭RX(0.33)─╰●─────────||──RX(0.30)──RZ(0.09)───────────╭RX(0.74)\n",
      "2: ──RX(0.42)──RZ(0.13)─╭RX(0.63)─╰●───────────────────||──RX(0.36)──RZ(0.56)─╭RX(0.12)─╰●───────\n",
      "3: ──RX(0.47)──RZ(0.62)─╰●─────────────────────────────||──RX(0.88)──RZ(0.03)─╰●─────────────────\n",
      "\n",
      "──╭RX(0.86)──||──RX(0.21)──RZ(0.69)─────────────────────╭RX(0.45)──||──RX(0.51)──RZ(0.12)──────────\n",
      "──╰●─────────||──RX(0.22)──RZ(0.90)───────────╭RX(0.39)─╰●─────────||──RX(0.48)──RZ(0.77)──────────\n",
      "─────────────||──RX(0.86)──RZ(0.13)─╭RX(0.12)─╰●───────────────────||──RX(0.99)──RZ(0.21)─╭RX(0.16)\n",
      "─────────────||──RX(0.16)──RZ(0.88)─╰●─────────────────────────────||──RX(0.39)──RZ(0.95)─╰●───────\n",
      "\n",
      "────────────╭RX(0.92)──||──RX(0.23)──RZ(0.29)─────────────────────╭RX(0.54)──||─┤  <Z>\n",
      "──╭RX(0.16)─╰●─────────||──RX(0.16)──RZ(0.06)───────────╭RX(0.93)─╰●─────────||─┤     \n",
      "──╰●───────────────────||──RX(0.23)──RZ(0.24)─╭RX(0.84)─╰●───────────────────||─┤     \n",
      "───────────────────────||──RX(0.62)──RZ(0.77)─╰●─────────────────────────────||─┤     \n"
     ]
    }
   ],
   "source": [
    "from circuits import sim_02, sim_03, sim_04, sim_05\n",
    "\n",
    "num_layers = 5\n",
    "num_qubits = 4\n",
    "\n",
    "# works as expected!\n",
    "# circuit = sim_02(num_layers, num_qubits)\n",
    "# initial_params = (\n",
    "#     np.array(np.random.random((num_layers, num_qubits, 2))),\n",
    "#     np.array([])\n",
    "# )\n",
    "\n",
    "# works as expected!\n",
    "# circuit = sim_03(num_layers, num_qubits)\n",
    "# initial_params = (\n",
    "#     np.array(np.random.random((num_layers, num_qubits, 2))),\n",
    "#     np.array(np.random.random((num_layers, num_qubits - 1)))\n",
    "# )\n",
    "\n",
    "circuit = sim_04(num_layers, num_qubits)\n",
    "initial_params = (\n",
    "    np.array(np.random.random((num_layers, num_qubits, 2))),\n",
    "    np.array(np.random.random((num_layers, num_qubits - 1)))\n",
    ")\n",
    "\n",
    "# takes a long time and produces numerical errors\n",
    "# circuit = sim_05(num_layers, num_qubits)\n",
    "# initial_params = (\n",
    "#     np.array(np.random.random((num_layers, num_qubits, 4))),\n",
    "#     np.array(np.random.random((num_layers, num_qubits, num_qubits - 1)))\n",
    "# )\n",
    "\n",
    "print(qml.draw(circuit)(*initial_params))\n",
    "\n",
    "# demo circuit from Rotosolve docs, crotosolve cannot solve this\n",
    "# dev = qml.device('default.qubit', wires=3, shots=None)\n",
    "# @qml.qnode(dev)\n",
    "# def circuit(rot_param: NDArray, layer_param: float, crot_param: NDArray):\n",
    "#     for i, par in enumerate(rot_param):\n",
    "#         qml.RX(par, wires=i)\n",
    "#     for w in dev.wires:\n",
    "#         qml.RX(layer_param, wires=w)\n",
    "#     for i, par in enumerate(crot_param):\n",
    "#         qml.CRY(par, wires=[i, (i+1) % 3])\n",
    "#     return qml.expval(qml.PauliZ(0) @ qml.PauliZ(1) @ qml.PauliZ(2))\n",
    "# params = (\n",
    "#     np.array([0.3, 0.2, 0.67], requires_grad=True),\n",
    "#     np.array(1.1, requires_grad=True),\n",
    "#     np.array([-0.2, 0.1, -2.5], requires_grad=True)\n",
    "# )"
   ]
  },
  {
   "cell_type": "markdown",
   "metadata": {},
   "source": [
    "## 2. Run optimizations"
   ]
  },
  {
   "cell_type": "code",
   "execution_count": 3,
   "metadata": {},
   "outputs": [
    {
     "name": "stdout",
     "output_type": "stream",
     "text": [
      "Optimizing with Crotosolve...\n",
      "yodl\n",
      "yodl\n",
      "yodl\n",
      "yodl\n",
      "yodl\n",
      "yodl\n",
      "yodl\n",
      "yodl\n",
      "yodl\n",
      "Optimizing with Rotosolve...\n"
     ]
    }
   ],
   "source": [
    "from optimizers import (\n",
    "    OptimizationTask,\n",
    "    OptimizationResult,\n",
    "    optimize_rotosolve,\n",
    "    optimize_crotosolve,\n",
    "    optimizers\n",
    ")\n",
    "\n",
    "task = OptimizationTask(circuit=circuit, initial_params=initial_params)\n",
    "\n",
    "results: dict[str, OptimizationResult] = {}\n",
    "my_optimizers = [\n",
    "    (\"Crotosolve\", optimize_crotosolve),\n",
    "    (\"Rotosolve\", optimize_rotosolve)\n",
    "]\n",
    "for name, optimize in my_optimizers:\n",
    "    print(f\"Optimizing with {name}...\")\n",
    "    result = optimize(task)\n",
    "    results[name] = result"
   ]
  },
  {
   "cell_type": "markdown",
   "metadata": {},
   "source": [
    "## 3. Plot loss curve"
   ]
  },
  {
   "cell_type": "code",
   "execution_count": 4,
   "metadata": {},
   "outputs": [
    {
     "data": {
      "image/png": "[encoded data removed]",
      "text/plain": [
       "<Figure size 640x480 with 1 Axes>"
      ]
     },
     "metadata": {},
     "output_type": "display_data"
    }
   ],
   "source": [
    "import matplotlib.pyplot as plt\n",
    "\n",
    "fig, ax = plt.subplots()\n",
    "ax.set_title(\"Loss curve over circuit evaluations\")\n",
    "\n",
    "for optimizer_name, result in results.items():\n",
    "    x, y = zip(*result.loss) # this unzips the list of points\n",
    "\n",
    "    ax.plot(x, y, label=f\"{optimizer_name}\")\n",
    "    ax.legend()"
   ]
  },
  {
   "cell_type": "markdown",
   "metadata": {},
   "source": [
    "## 4. Save data to disk"
   ]
  },
  {
   "cell_type": "code",
   "execution_count": 5,
   "metadata": {},
   "outputs": [],
   "source": [
    "import pickle\n",
    "\n",
    "file = \"./sim04_results2.pickle\"\n",
    "\n",
    "pickle.dump(results, open(file, \"wb\"))\n",
    "\n",
    "# results = pickle.load(open(file, \"rb\"))"
   ]
  }
 ],
 "metadata": {
  "kernelspec": {
   "display_name": ".venv",
   "language": "python",
   "name": "python3"
  },
  "language_info": {
   "codemirror_mode": {
    "name": "ipython",
    "version": 3
   },
   "file_extension": ".py",
   "mimetype": "text/x-python",
   "name": "python",
   "nbconvert_exporter": "python",
   "pygments_lexer": "ipython3",
   "version": "3.10.12"
  }
 },
 "nbformat": 4,
 "nbformat_minor": 2
}
