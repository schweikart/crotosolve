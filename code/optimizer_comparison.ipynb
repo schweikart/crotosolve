{
 "cells": [
  {
   "cell_type": "code",
   "execution_count": 1,
   "metadata": {},
   "outputs": [],
   "source": [
    "import pennylane as qml\n",
    "import pennylane.numpy as np\n",
    "import numpy as illegal_but_typed_np\n",
    "from numpy.typing import NDArray"
   ]
  },
  {
   "cell_type": "markdown",
   "metadata": {},
   "source": [
    "## 1. Set up circuit to optimize"
   ]
  },
  {
   "cell_type": "code",
   "execution_count": 10,
   "metadata": {},
   "outputs": [
    {
     "name": "stdout",
     "output_type": "stream",
     "text": [
      "0: ──RX(0.35)──RZ(0.07)─────────────────────╭RZ(0.16)─────────────────────╭RZ(0.03)──────────\n",
      "1: ──RX(0.74)──RZ(0.25)───────────╭RZ(0.78)─│───────────────────╭RZ(0.98)─│─────────╭●───────\n",
      "2: ──RX(0.66)──RZ(0.14)─╭RZ(0.71)─│─────────│─────────╭●────────╰●────────╰●────────│────────\n",
      "3: ──RX(0.98)──RZ(0.60)─╰●────────╰●────────╰●────────╰RZ(0.08)─────────────────────╰RZ(0.91)\n",
      "\n",
      "────────────╭RZ(0.26)─╭●────────╭●────────╭●─────────RX(0.51)──RZ(0.65)──||──RX(0.56)──RZ(0.84)\n",
      "──╭●────────╰●────────│─────────│─────────╰RZ(0.94)──RX(0.41)──RZ(0.48)──||──RX(0.31)──RZ(0.50)\n",
      "──╰RZ(0.34)───────────│─────────╰RZ(0.75)──RX(0.10)──RZ(0.74)────────────||──RX(0.48)──RZ(0.94)\n",
      "──────────────────────╰RZ(0.46)──RX(0.41)──RZ(0.83)──────────────────────||──RX(0.02)──RZ(0.76)\n",
      "\n",
      "──────────────────────╭RZ(0.54)─────────────────────╭RZ(0.18)─────────────────────╭RZ(0.65)\n",
      "────────────╭RZ(0.29)─│───────────────────╭RZ(0.86)─│─────────╭●────────╭●────────╰●───────\n",
      "──╭RZ(0.56)─│─────────│─────────╭●────────╰●────────╰●────────│─────────╰RZ(0.64)──────────\n",
      "──╰●────────╰●────────╰●────────╰RZ(0.48)─────────────────────╰RZ(0.81)────────────────────\n",
      "\n",
      "──╭●────────╭●────────╭●─────────RX(0.18)──RZ(0.50)──||──RX(0.75)──RZ(0.07)────────────────────\n",
      "──│─────────│─────────╰RZ(0.10)──RX(0.40)──RZ(0.31)──||──RX(0.36)──RZ(0.02)───────────╭RZ(0.72)\n",
      "──│─────────╰RZ(0.12)──RX(0.28)──RZ(0.95)────────────||──RX(0.39)──RZ(0.82)─╭RZ(0.98)─│────────\n",
      "──╰RZ(0.05)──RX(0.05)──RZ(0.35)──────────────────────||──RX(0.06)──RZ(0.78)─╰●────────╰●───────\n",
      "\n",
      "──╭RZ(0.20)─────────────────────╭RZ(0.27)─────────────────────╭RZ(0.57)─╭●────────╭●───────\n",
      "──│───────────────────╭RZ(0.84)─│─────────╭●────────╭●────────╰●────────│─────────│────────\n",
      "──│─────────╭●────────╰●────────╰●────────│─────────╰RZ(0.54)───────────│─────────╰RZ(0.01)\n",
      "──╰●────────╰RZ(0.69)─────────────────────╰RZ(0.72)─────────────────────╰RZ(0.54)──RX(0.40)\n",
      "\n",
      "──╭●─────────RX(0.84)──RZ(0.49)──||──RX(0.79)──RZ(0.66)─────────────────────╭RZ(0.61)──────────\n",
      "──╰RZ(0.98)──RX(0.38)──RZ(0.19)──||──RX(0.59)──RZ(0.22)───────────╭RZ(0.36)─│──────────────────\n",
      "───RX(0.31)──RZ(0.47)────────────||──RX(0.56)──RZ(0.80)─╭RZ(0.69)─│─────────│─────────╭●───────\n",
      "───RZ(0.99)──────────────────────||──RX(0.78)──RZ(0.19)─╰●────────╰●────────╰●────────╰RZ(0.21)\n",
      "\n",
      "────────────╭RZ(0.75)─────────────────────╭RZ(0.36)─╭●────────╭●────────╭●─────────RX(0.11)\n",
      "──╭RZ(0.50)─│─────────╭●────────╭●────────╰●────────│─────────│─────────╰RZ(0.35)──RX(0.24)\n",
      "──╰●────────╰●────────│─────────╰RZ(0.29)───────────│─────────╰RZ(0.61)──RX(0.40)──RZ(0.64)\n",
      "──────────────────────╰RZ(0.37)─────────────────────╰RZ(0.19)──RX(0.81)──RZ(0.38)──────────\n",
      "\n",
      "───RZ(0.76)──||──RX(0.57)──RZ(0.50)─────────────────────╭RZ(0.51)─────────────────────╭RZ(0.26)\n",
      "───RZ(0.14)──||──RX(0.00)──RZ(0.70)───────────╭RZ(0.45)─│───────────────────╭RZ(0.78)─│────────\n",
      "─────────────||──RX(0.33)──RZ(0.45)─╭RZ(0.26)─│─────────│─────────╭●────────╰●────────╰●───────\n",
      "─────────────||──RX(0.72)──RZ(0.78)─╰●────────╰●────────╰●────────╰RZ(0.22)────────────────────\n",
      "\n",
      "──────────────────────╭RZ(0.04)─╭●────────╭●────────╭●─────────RX(0.20)──RZ(0.08)──||─┤  <Z>\n",
      "──╭●────────╭●────────╰●────────│─────────│─────────╰RZ(0.49)──RX(0.58)──RZ(0.44)──||─┤     \n",
      "──│─────────╰RZ(0.92)───────────│─────────╰RZ(0.87)──RX(0.03)──RZ(0.56)────────────||─┤     \n",
      "──╰RZ(0.64)─────────────────────╰RZ(0.24)──RX(0.23)──RZ(0.63)──────────────────────||─┤     \n"
     ]
    }
   ],
   "source": [
    "from circuits import sim_02, sim_03, sim_04, sim_05\n",
    "\n",
    "num_layers = 5\n",
    "num_qubits = 4\n",
    "\n",
    "# works as expected!\n",
    "# circuit = sim_02(num_layers, num_qubits)\n",
    "# initial_params = (\n",
    "#     np.array(np.random.random((num_layers, num_qubits, 2))),\n",
    "#     np.array([])\n",
    "# )\n",
    "\n",
    "# works as expected!\n",
    "# circuit = sim_03(num_layers, num_qubits)\n",
    "# initial_params = (\n",
    "#     np.array(np.random.random((num_layers, num_qubits, 2))),\n",
    "#     np.array(np.random.random((num_layers, num_qubits - 1)))\n",
    "# )\n",
    "\n",
    "# circuit = sim_04(num_layers, num_qubits)\n",
    "# initial_params = (\n",
    "#     np.array(np.random.random((num_layers, num_qubits, 2))),\n",
    "#     np.array(np.random.random((num_layers, num_qubits - 1)))\n",
    "# )\n",
    "circuit = sim_05(num_layers, num_qubits)\n",
    "initial_params = (\n",
    "    np.array(np.random.random((num_layers, num_qubits, 4))),\n",
    "    np.array(np.random.random((num_layers, num_qubits, num_qubits - 1)))\n",
    ")\n",
    "\n",
    "print(qml.draw(circuit)(*initial_params))\n",
    "\n",
    "# demo circuit from Rotosolve docs, crotosolve cannot solve this\n",
    "# dev = qml.device('default.qubit', wires=3, shots=None)\n",
    "# @qml.qnode(dev)\n",
    "# def circuit(rot_param: NDArray, layer_param: float, crot_param: NDArray):\n",
    "#     for i, par in enumerate(rot_param):\n",
    "#         qml.RX(par, wires=i)\n",
    "#     for w in dev.wires:\n",
    "#         qml.RX(layer_param, wires=w)\n",
    "#     for i, par in enumerate(crot_param):\n",
    "#         qml.CRY(par, wires=[i, (i+1) % 3])\n",
    "#     return qml.expval(qml.PauliZ(0) @ qml.PauliZ(1) @ qml.PauliZ(2))\n",
    "# params = (\n",
    "#     np.array([0.3, 0.2, 0.67], requires_grad=True),\n",
    "#     np.array(1.1, requires_grad=True),\n",
    "#     np.array([-0.2, 0.1, -2.5], requires_grad=True)\n",
    "# )"
   ]
  },
  {
   "cell_type": "markdown",
   "metadata": {},
   "source": [
    "## 2. Run `Crotosolve` optimization"
   ]
  },
  {
   "cell_type": "code",
   "execution_count": 11,
   "metadata": {},
   "outputs": [],
   "source": [
    "from CrotosolveOptimizer import CrotosolveOptimizer\n",
    "\n",
    "max_iterations = 5#100\n",
    "convergence_threshold = 1e-06\n",
    "\n",
    "optimizer = CrotosolveOptimizer()\n",
    "\n",
    "cost = [(0, float(circuit(*initial_params)))]\n",
    "params = initial_params\n",
    "for iteration in range(max_iterations):\n",
    "    with qml.Tracker(circuit.device) as tracker:\n",
    "        params, prev_cost, sub_cost = optimizer.step_and_cost(\n",
    "            circuit,\n",
    "            *params,\n",
    "            full_output=True\n",
    "        )\n",
    "        # assert that the #evaluations estimate is correct\n",
    "        assert tracker.totals['batches'] == 1 + 2 * params[0].size + 5 * params[1].size\n",
    "\n",
    "    sub_cost_rp = sub_cost[:params[0].size]\n",
    "    sub_cost_crp = sub_cost[params[0].size:]\n",
    "\n",
    "    evaluations_so_far = max([evs for (evs, _) in cost], default=0)\n",
    "    cost.extend([\n",
    "        (\n",
    "            evaluations_so_far + 1 + 2 * (cost_idx + 1),\n",
    "            float(cost_value)\n",
    "        )\n",
    "        for (cost_idx, cost_value)\n",
    "        in enumerate(sub_cost_rp)\n",
    "    ])\n",
    "\n",
    "    evaluations_so_far = max([evs for (evs, _) in cost], default=0)\n",
    "    cost.extend([\n",
    "        (\n",
    "            evaluations_so_far + 5 * (cost_idx + 1),\n",
    "            float(cost_value)\n",
    "        )\n",
    "        for (cost_idx, cost_value)\n",
    "        in enumerate(sub_cost_crp)\n",
    "    ])\n",
    "\n",
    "    if np.abs(circuit(*params) - prev_cost) <= convergence_threshold:\n",
    "        print(\"abort\", iteration)\n",
    "        break\n",
    "\n",
    "crotosolve_cost = cost"
   ]
  },
  {
   "cell_type": "markdown",
   "metadata": {},
   "source": [
    "## 3. Run `Rotosolve` optimization"
   ]
  },
  {
   "cell_type": "code",
   "execution_count": 12,
   "metadata": {},
   "outputs": [
    {
     "name": "stdout",
     "output_type": "stream",
     "text": [
      "540 80 60 461 540\n"
     ]
    },
    {
     "ename": "AssertionError",
     "evalue": "",
     "output_type": "error",
     "traceback": [
      "\u001b[0;31m---------------------------------------------------------------------------\u001b[0m",
      "\u001b[0;31mAssertionError\u001b[0m                            Traceback (most recent call last)",
      "\u001b[1;32m/home/max/Projects/bachelor-thesis/code/optimizer_comparison.ipynb Cell 7\u001b[0m line \u001b[0;36m1\n\u001b[1;32m     <a href='vscode-notebook-cell:/home/max/Projects/bachelor-thesis/code/optimizer_comparison.ipynb#W6sZmlsZQ%3D%3D?line=11'>12</a>\u001b[0m     params, prev_cost, sub_cost \u001b[39m=\u001b[39m optimizer\u001b[39m.\u001b[39mstep_and_cost(\n\u001b[1;32m     <a href='vscode-notebook-cell:/home/max/Projects/bachelor-thesis/code/optimizer_comparison.ipynb#W6sZmlsZQ%3D%3D?line=12'>13</a>\u001b[0m         circuit,\n\u001b[1;32m     <a href='vscode-notebook-cell:/home/max/Projects/bachelor-thesis/code/optimizer_comparison.ipynb#W6sZmlsZQ%3D%3D?line=13'>14</a>\u001b[0m         \u001b[39m*\u001b[39mparams,\n\u001b[1;32m     <a href='vscode-notebook-cell:/home/max/Projects/bachelor-thesis/code/optimizer_comparison.ipynb#W6sZmlsZQ%3D%3D?line=14'>15</a>\u001b[0m         spectra\u001b[39m=\u001b[39mspectra,\n\u001b[1;32m     <a href='vscode-notebook-cell:/home/max/Projects/bachelor-thesis/code/optimizer_comparison.ipynb#W6sZmlsZQ%3D%3D?line=15'>16</a>\u001b[0m         full_output\u001b[39m=\u001b[39m\u001b[39mTrue\u001b[39;00m\n\u001b[1;32m     <a href='vscode-notebook-cell:/home/max/Projects/bachelor-thesis/code/optimizer_comparison.ipynb#W6sZmlsZQ%3D%3D?line=16'>17</a>\u001b[0m     )\n\u001b[1;32m     <a href='vscode-notebook-cell:/home/max/Projects/bachelor-thesis/code/optimizer_comparison.ipynb#W6sZmlsZQ%3D%3D?line=17'>18</a>\u001b[0m     \u001b[39mprint\u001b[39m(tracker\u001b[39m.\u001b[39mtotals[\u001b[39m'\u001b[39m\u001b[39mbatches\u001b[39m\u001b[39m'\u001b[39m], params[\u001b[39m0\u001b[39m]\u001b[39m.\u001b[39msize, params[\u001b[39m1\u001b[39m]\u001b[39m.\u001b[39msize, \u001b[39m1\u001b[39m \u001b[39m+\u001b[39m \u001b[39m2\u001b[39m \u001b[39m*\u001b[39m params[\u001b[39m0\u001b[39m]\u001b[39m.\u001b[39msize \u001b[39m+\u001b[39m \u001b[39m5\u001b[39m \u001b[39m*\u001b[39m params[\u001b[39m1\u001b[39m]\u001b[39m.\u001b[39msize, \u001b[39m3\u001b[39m \u001b[39m*\u001b[39m params[\u001b[39m0\u001b[39m]\u001b[39m.\u001b[39msize \u001b[39m+\u001b[39m \u001b[39m5\u001b[39m \u001b[39m*\u001b[39m params[\u001b[39m1\u001b[39m]\u001b[39m.\u001b[39msize)\n\u001b[0;32m---> <a href='vscode-notebook-cell:/home/max/Projects/bachelor-thesis/code/optimizer_comparison.ipynb#W6sZmlsZQ%3D%3D?line=18'>19</a>\u001b[0m     \u001b[39massert\u001b[39;00m tracker\u001b[39m.\u001b[39mtotals[\u001b[39m'\u001b[39m\u001b[39mbatches\u001b[39m\u001b[39m'\u001b[39m] \u001b[39m==\u001b[39m \u001b[39m1\u001b[39m \u001b[39m+\u001b[39m \u001b[39m2\u001b[39m \u001b[39m*\u001b[39m params[\u001b[39m0\u001b[39m]\u001b[39m.\u001b[39msize \u001b[39m+\u001b[39m \u001b[39m5\u001b[39m \u001b[39m*\u001b[39m params[\u001b[39m1\u001b[39m]\u001b[39m.\u001b[39msize\n\u001b[1;32m     <a href='vscode-notebook-cell:/home/max/Projects/bachelor-thesis/code/optimizer_comparison.ipynb#W6sZmlsZQ%3D%3D?line=20'>21</a>\u001b[0m sub_cost_rp \u001b[39m=\u001b[39m sub_cost[:params[\u001b[39m0\u001b[39m]\u001b[39m.\u001b[39msize]\n\u001b[1;32m     <a href='vscode-notebook-cell:/home/max/Projects/bachelor-thesis/code/optimizer_comparison.ipynb#W6sZmlsZQ%3D%3D?line=21'>22</a>\u001b[0m sub_cost_crp \u001b[39m=\u001b[39m sub_cost[params[\u001b[39m0\u001b[39m]\u001b[39m.\u001b[39msize:]\n",
      "\u001b[0;31mAssertionError\u001b[0m: "
     ]
    }
   ],
   "source": [
    "max_iterations = 5#100\n",
    "convergence_threshold = 1e-06\n",
    "\n",
    "optimizer = qml.RotosolveOptimizer()\n",
    "params = initial_params\n",
    "\n",
    "spectrum_fn = qml.fourier.qnode_spectrum(circuit)\n",
    "spectra = spectrum_fn(*params)\n",
    "cost = [(0, float(circuit(*initial_params)))]\n",
    "for iteration in range(max_iterations):\n",
    "    with qml.Tracker(circuit.device) as tracker:\n",
    "        params, prev_cost, sub_cost = optimizer.step_and_cost(\n",
    "            circuit,\n",
    "            *params,\n",
    "            spectra=spectra,\n",
    "            full_output=True\n",
    "        )\n",
    "        assert tracker.totals['batches'] == 3 * params[0].size + 5 * params[1].size\n",
    "\n",
    "    sub_cost_rp = sub_cost[:params[0].size]\n",
    "    sub_cost_crp = sub_cost[params[0].size:]\n",
    "\n",
    "    evaluations_so_far = max([evs for (evs, _) in cost], default=0)\n",
    "    cost.extend([\n",
    "        (\n",
    "            evaluations_so_far + 3 * (cost_idx + 1),\n",
    "            float(cost_value)\n",
    "        )\n",
    "        for (cost_idx, cost_value)\n",
    "        in enumerate(sub_cost_rp)\n",
    "    ])\n",
    "\n",
    "    evaluations_so_far = max([evs for (evs, _) in cost], default=0)\n",
    "    cost.extend([\n",
    "        (\n",
    "            evaluations_so_far + 5 * (cost_idx + 1),\n",
    "            float(cost_value)\n",
    "        )\n",
    "        for (cost_idx, cost_value)\n",
    "        in enumerate(sub_cost_crp)\n",
    "    ])\n",
    "\n",
    "    if np.abs(circuit(*params) - prev_cost) <= convergence_threshold:\n",
    "        print(\"abort\", iteration)\n",
    "        break\n",
    "\n",
    "rotosolve_cost = cost"
   ]
  },
  {
   "cell_type": "markdown",
   "metadata": {},
   "source": [
    "## 4. Run `GradientDescent` optimization"
   ]
  },
  {
   "cell_type": "code",
   "execution_count": 7,
   "metadata": {},
   "outputs": [
    {
     "name": "stdout",
     "output_type": "stream",
     "text": [
      "0 -0.2507342071066252\n",
      "20 -0.46253400979786585\n",
      "40 -0.6212690664250103\n",
      "60 -0.7324101646554483\n",
      "80 -0.8066951423475551\n"
     ]
    }
   ],
   "source": [
    "max_iterations = 100 # 500\n",
    "convergence_threshold = 1e-06\n",
    "\n",
    "optimizer = qml.GradientDescentOptimizer()\n",
    "params = initial_params\n",
    "\n",
    "cost = [(0, float(circuit(*initial_params)))]\n",
    "for iteration in range(max_iterations):\n",
    "    with qml.Tracker(circuit.device) as tracker:\n",
    "        params, prev_cost = optimizer.step_and_cost(\n",
    "            circuit,\n",
    "            *params,\n",
    "        )\n",
    "    evaluations_here = tracker.totals['batches']\n",
    "    assert evaluations_here >= 2, \"Gradient needs two evaluations!\"\n",
    "    current_cost = float(circuit(*params))\n",
    "\n",
    "    evaluations_so_far = max([evs for (evs, _) in cost], default=0)\n",
    "    cost.append((evaluations_so_far + evaluations_here, current_cost))\n",
    "\n",
    "    if np.abs(current_cost - prev_cost) <= convergence_threshold:\n",
    "        print(\"abort\", iteration)\n",
    "        break\n",
    "    if iteration % 20 == 0:\n",
    "        print(iteration, current_cost)\n",
    "\n",
    "gradientdescent_cost = cost"
   ]
  },
  {
   "cell_type": "markdown",
   "metadata": {},
   "source": [
    "## 5. Run `Adam` optimization"
   ]
  },
  {
   "cell_type": "code",
   "execution_count": 9,
   "metadata": {},
   "outputs": [
    {
     "name": "stdout",
     "output_type": "stream",
     "text": [
      "0 -0.2973511466473988\n",
      "20 -0.9066681499084775\n",
      "40 -0.989290748613225\n",
      "60 -0.9981601457327064\n",
      "80 -0.9998390761671443\n"
     ]
    }
   ],
   "source": [
    "max_iterations = 100 # 500\n",
    "convergence_threshold = 1e-06\n",
    "\n",
    "optimizer = qml.AdamOptimizer()\n",
    "params = initial_params\n",
    "\n",
    "cost = [(0, float(circuit(*initial_params)))]\n",
    "for iteration in range(max_iterations):\n",
    "    with qml.Tracker(circuit.device) as tracker:\n",
    "        params, prev_cost = optimizer.step_and_cost(\n",
    "            circuit,\n",
    "            *params,\n",
    "        )\n",
    "    evaluations_here = tracker.totals['batches']\n",
    "    assert evaluations_here >= 2, \"Gradient needs two evaluations!\"\n",
    "    current_cost = float(circuit(*params))\n",
    "\n",
    "    evaluations_so_far = max([evs for (evs, _) in cost], default=0)\n",
    "    cost.append((evaluations_so_far + evaluations_here, current_cost))\n",
    "\n",
    "    if np.abs(circuit(*params) - prev_cost) <= convergence_threshold:\n",
    "        print(\"abort\", iteration)\n",
    "        break\n",
    "    if iteration % 20 == 0:\n",
    "        print(iteration, current_cost)\n",
    "\n",
    "adam_cost = cost"
   ]
  },
  {
   "cell_type": "markdown",
   "metadata": {},
   "source": [
    "## 5. Run `Adagrad` optimization"
   ]
  },
  {
   "cell_type": "code",
   "execution_count": 10,
   "metadata": {},
   "outputs": [
    {
     "name": "stdout",
     "output_type": "stream",
     "text": [
      "0 -0.2973511651466259\n",
      "20 -0.6187489471078944\n",
      "40 -0.7500455368712033\n",
      "60 -0.8263926795192191\n",
      "80 -0.8735524375805135\n"
     ]
    }
   ],
   "source": [
    "max_iterations = 100 # 500\n",
    "convergence_threshold = 1e-06\n",
    "\n",
    "optimizer = qml.AdagradOptimizer()\n",
    "params = initial_params\n",
    "\n",
    "cost = [(0, float(circuit(*initial_params)))]\n",
    "for iteration in range(max_iterations):\n",
    "    with qml.Tracker(circuit.device) as tracker:\n",
    "        params, prev_cost = optimizer.step_and_cost(\n",
    "            circuit,\n",
    "            *params,\n",
    "        )\n",
    "    evaluations_here = tracker.totals['batches']\n",
    "    assert evaluations_here >= 2, \"Gradient needs two evaluations!\"\n",
    "    current_cost = float(circuit(*params))\n",
    "\n",
    "    evaluations_so_far = max([evs for (evs, _) in cost], default=0)\n",
    "    cost.append((evaluations_so_far + evaluations_here, current_cost))\n",
    "\n",
    "    if np.abs(circuit(*params) - prev_cost) <= convergence_threshold:\n",
    "        print(\"abort\", iteration)\n",
    "        break\n",
    "    if iteration % 20 == 0:\n",
    "        print(iteration, current_cost)\n",
    "\n",
    "adagrad_cost = cost"
   ]
  },
  {
   "cell_type": "markdown",
   "metadata": {},
   "source": [
    "## N. Plot loss curve"
   ]
  },
  {
   "cell_type": "code",
   "execution_count": 11,
   "metadata": {},
   "outputs": [
    {
     "data": {
      "image/png": "[encoded data removed]",
      "text/plain": [
       "<Figure size 640x480 with 1 Axes>"
      ]
     },
     "metadata": {},
     "output_type": "display_data"
    }
   ],
   "source": [
    "import matplotlib.pyplot as plt\n",
    "\n",
    "fig, ax = plt.subplots()\n",
    "\n",
    "plot_data = [\n",
    "    (\"Rotosolve\", rotosolve_cost),\n",
    "    (\"Crotosolve\", crotosolve_cost),\n",
    "    (\"Gradient Descent\", gradientdescent_cost),\n",
    "    (\"Adam\", adam_cost),\n",
    "    (\"Adagrad\", adagrad_cost)\n",
    "]\n",
    "\n",
    "for optimizer_name, loss_curve_data in plot_data:\n",
    "    x, y = zip(*loss_curve_data) # this unzips the list of points\n",
    "\n",
    "    ax.plot(x, y, label=f\"{optimizer_name} loss curve over iterations\")\n",
    "    ax.legend()"
   ]
  }
 ],
 "metadata": {
  "kernelspec": {
   "display_name": ".venv",
   "language": "python",
   "name": "python3"
  },
  "language_info": {
   "codemirror_mode": {
    "name": "ipython",
    "version": 3
   },
   "file_extension": ".py",
   "mimetype": "text/x-python",
   "name": "python",
   "nbconvert_exporter": "python",
   "pygments_lexer": "ipython3",
   "version": "3.10.12"
  }
 },
 "nbformat": 4,
 "nbformat_minor": 2
}
