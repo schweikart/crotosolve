{
 "cells": [
  {
   "cell_type": "code",
   "execution_count": 1,
   "metadata": {},
   "outputs": [],
   "source": [
    "from optimizers import OptimizationTask, OptimizationResult, Optimizer, optimizers\n",
    "from dataset import Dataset, Instance\n",
    "from pennylane import QNode\n",
    "import pennylane.numpy as np\n",
    "from math import pi"
   ]
  },
  {
   "cell_type": "code",
   "execution_count": 2,
   "metadata": {},
   "outputs": [],
   "source": [
    "def generate_tasks(\n",
    "    circuit_id: str,\n",
    "    num_qubits: int,\n",
    "    num_layers: int,\n",
    "    rp_params_shape: tuple,\n",
    "    crp_params_shape: tuple,\n",
    "    max_evaluations: int = 250,\n",
    "    convergence_threshold: int = 1e-6,\n",
    "    num_tasks: int = 100\n",
    ") -> list[OptimizationTask]:\n",
    "    return [\n",
    "        OptimizationTask(\n",
    "            circuit_id=circuit_id,\n",
    "            num_qubits=num_qubits,\n",
    "            num_layers=num_layers,\n",
    "            initial_params=(\n",
    "                np.random.random(rp_params_shape) * 2 * pi,\n",
    "                np.random.random(crp_params_shape) * 4 * pi\n",
    "            ),\n",
    "            max_evaluations=max_evaluations,\n",
    "            convergence_threshold=convergence_threshold\n",
    "        )\n",
    "        for _ in range(num_tasks)\n",
    "    ]"
   ]
  },
  {
   "cell_type": "code",
   "execution_count": 3,
   "metadata": {},
   "outputs": [],
   "source": [
    "def run_task(\n",
    "        task: OptimizationTask,\n",
    "        optimizers: list[tuple[str, Optimizer]]\n",
    ") -> Instance:\n",
    "    print(f\"Optimizing an instance...\")\n",
    "    results: dict[str, OptimizationResult] = {\n",
    "        name: optimize(task)\n",
    "        for name, optimize in optimizers\n",
    "    }\n",
    "    print(f\"Done optimizing an instance...\")\n",
    "    \n",
    "    return Instance(\n",
    "        task=task,\n",
    "        results=results,\n",
    "    )"
   ]
  },
  {
   "cell_type": "code",
   "execution_count": 4,
   "metadata": {},
   "outputs": [],
   "source": [
    "from circuits import sim_03\n",
    "\n",
    "num_qubits=4\n",
    "num_layers=3\n",
    "num_tasks = 2\n",
    "\n",
    "tasks = generate_tasks(\n",
    "    circuit_id=\"sim03\",\n",
    "    num_qubits=num_qubits,\n",
    "    num_layers=num_layers,\n",
    "    rp_params_shape = (num_layers, num_qubits, 2),\n",
    "    crp_params_shape = (num_layers, num_qubits - 1),\n",
    "    num_tasks=num_tasks,\n",
    "    max_evaluations=125\n",
    ")"
   ]
  },
  {
   "cell_type": "code",
   "execution_count": 5,
   "metadata": {},
   "outputs": [
    {
     "name": "stdout",
     "output_type": "stream",
     "text": [
      "Running with 8 cores.\n"
     ]
    },
    {
     "name": "stdout",
     "output_type": "stream",
     "text": [
      "Optimizing an instance...\n",
      "Optimizing an instance...\n",
      "yodl\n",
      "yodl\n"
     ]
    },
    {
     "name": "stderr",
     "output_type": "stream",
     "text": [
      "/home/max/Projects/bachelor-thesis/code/minimization.py:22: OptimizeWarning: Initial guess is not within the specified bounds\n",
      "  res = minimize(reconstruction, x0, bounds=Bounds(0, 4 * math.pi), method='Nelder-Mead', tol=1e-6)\n",
      "/home/max/Projects/bachelor-thesis/code/minimization.py:22: OptimizeWarning: Initial guess is not within the specified bounds\n",
      "  res = minimize(reconstruction, x0, bounds=Bounds(0, 4 * math.pi), method='Nelder-Mead', tol=1e-6)\n"
     ]
    },
    {
     "name": "stdout",
     "output_type": "stream",
     "text": [
      "yodl\n",
      "yodl\n",
      "yodl\n",
      "yodl\n",
      "yodl\n",
      "yodl\n",
      "yodl\n",
      "yodl\n",
      "yodl\n",
      "yodl\n",
      "0 0.4271809227584271\n",
      "0 -0.6729313397041198\n",
      "20 0.1925738772082798\n",
      "20 -0.8206686156090046\n",
      "40 -0.8969994329479589\n",
      "40 -0.06139670045172252\n",
      "60 -0.2965036078199443\n",
      "60 -0.9355898806077132\n",
      "0 0.4094464717658405\n",
      "0 -0.6865448630005837\n",
      "20 -0.958184592073448\n",
      "20 -0.17879154810112385\n",
      "40 -0.5757147092654086\n",
      "40 -0.9879736664704292\n",
      "60 -0.785778106443757\n",
      "60 -0.9937210966303008\n",
      "0 0.4094464686346269\n",
      "0 -0.6865448556213962\n",
      "20 0.20350884810942355\n",
      "20 -0.8162847285693053\n",
      "40 0.09092447152423633\n",
      "40 -0.8650255729046714\n",
      "60 0.004595012487061401\n",
      "60 -0.8946781209741622\n",
      "Done optimizing an instance...\n",
      "Done optimizing an instance...\n",
      "Yeah I am done with a task look at me fellas 1 / 2\n",
      "Yeah I am done with a task look at me fellas 2 / 2\n"
     ]
    }
   ],
   "source": [
    "from concurrent.futures import Future, ProcessPoolExecutor, as_completed\n",
    "from loky.backend.context import cpu_count\n",
    "\n",
    "cores = cpu_count()\n",
    "print(f\"Running with {cores} cores.\")\n",
    "\n",
    "folder = \"../dataset/\"\n",
    "\n",
    "with ProcessPoolExecutor(max_workers=cores) as executor:\n",
    "    task_map: dict[Future[Instance], OptimizationTask] = {\n",
    "        executor.submit(run_task, task, optimizers): task\n",
    "        for task in tasks\n",
    "    }\n",
    "\n",
    "    completed = 0\n",
    "    for future in as_completed(task_map):\n",
    "        instance: Instance = future.result()\n",
    "        instance.save(folder)\n",
    "        completed += 1\n",
    "        print(f\"Yeah I am done with a task look at me fellas {completed} / {num_tasks}\")\n",
    "\n"
   ]
  }
 ],
 "metadata": {
  "kernelspec": {
   "display_name": ".venv",
   "language": "python",
   "name": "python3"
  },
  "language_info": {
   "codemirror_mode": {
    "name": "ipython",
    "version": 3
   },
   "file_extension": ".py",
   "mimetype": "text/x-python",
   "name": "python",
   "nbconvert_exporter": "python",
   "pygments_lexer": "ipython3",
   "version": "3.10.12"
  }
 },
 "nbformat": 4,
 "nbformat_minor": 2
}
